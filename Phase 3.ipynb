{
 "cells": [
  {
   "cell_type": "code",
   "execution_count": 11,
   "id": "939415f8",
   "metadata": {},
   "outputs": [],
   "source": [
    "import pandas as pd \n",
    "import sqlite3"
   ]
  },
  {
   "cell_type": "code",
   "execution_count": 12,
   "id": "dbcdbf2f",
   "metadata": {},
   "outputs": [
    {
     "data": {
      "text/html": [
       "<div>\n",
       "<style scoped>\n",
       "    .dataframe tbody tr th:only-of-type {\n",
       "        vertical-align: middle;\n",
       "    }\n",
       "\n",
       "    .dataframe tbody tr th {\n",
       "        vertical-align: top;\n",
       "    }\n",
       "\n",
       "    .dataframe thead th {\n",
       "        text-align: right;\n",
       "    }\n",
       "</style>\n",
       "<table border=\"1\" class=\"dataframe\">\n",
       "  <thead>\n",
       "    <tr style=\"text-align: right;\">\n",
       "      <th></th>\n",
       "      <th>STATE/UT</th>\n",
       "      <th>DISTRICT</th>\n",
       "      <th>Year</th>\n",
       "      <th>Rape</th>\n",
       "      <th>Kidnapping and Abduction</th>\n",
       "      <th>Dowry Deaths</th>\n",
       "      <th>Assault on women with intent to outrage her modesty</th>\n",
       "      <th>Insult to modesty of Women</th>\n",
       "      <th>Cruelty by Husband or his Relatives</th>\n",
       "      <th>Importation of Girls</th>\n",
       "    </tr>\n",
       "  </thead>\n",
       "  <tbody>\n",
       "    <tr>\n",
       "      <th>0</th>\n",
       "      <td>ANDHRA PRADESH</td>\n",
       "      <td>ADILABAD</td>\n",
       "      <td>2001</td>\n",
       "      <td>50</td>\n",
       "      <td>30</td>\n",
       "      <td>16</td>\n",
       "      <td>149</td>\n",
       "      <td>34</td>\n",
       "      <td>175</td>\n",
       "      <td>0</td>\n",
       "    </tr>\n",
       "    <tr>\n",
       "      <th>1</th>\n",
       "      <td>ANDHRA PRADESH</td>\n",
       "      <td>ANANTAPUR</td>\n",
       "      <td>2001</td>\n",
       "      <td>23</td>\n",
       "      <td>30</td>\n",
       "      <td>7</td>\n",
       "      <td>118</td>\n",
       "      <td>24</td>\n",
       "      <td>154</td>\n",
       "      <td>0</td>\n",
       "    </tr>\n",
       "    <tr>\n",
       "      <th>2</th>\n",
       "      <td>ANDHRA PRADESH</td>\n",
       "      <td>CHITTOOR</td>\n",
       "      <td>2001</td>\n",
       "      <td>27</td>\n",
       "      <td>34</td>\n",
       "      <td>14</td>\n",
       "      <td>112</td>\n",
       "      <td>83</td>\n",
       "      <td>186</td>\n",
       "      <td>0</td>\n",
       "    </tr>\n",
       "    <tr>\n",
       "      <th>3</th>\n",
       "      <td>ANDHRA PRADESH</td>\n",
       "      <td>CUDDAPAH</td>\n",
       "      <td>2001</td>\n",
       "      <td>20</td>\n",
       "      <td>20</td>\n",
       "      <td>17</td>\n",
       "      <td>126</td>\n",
       "      <td>38</td>\n",
       "      <td>57</td>\n",
       "      <td>0</td>\n",
       "    </tr>\n",
       "    <tr>\n",
       "      <th>4</th>\n",
       "      <td>ANDHRA PRADESH</td>\n",
       "      <td>EAST GODAVARI</td>\n",
       "      <td>2001</td>\n",
       "      <td>23</td>\n",
       "      <td>26</td>\n",
       "      <td>12</td>\n",
       "      <td>109</td>\n",
       "      <td>58</td>\n",
       "      <td>247</td>\n",
       "      <td>0</td>\n",
       "    </tr>\n",
       "  </tbody>\n",
       "</table>\n",
       "</div>"
      ],
      "text/plain": [
       "         STATE/UT       DISTRICT  Year  Rape  Kidnapping and Abduction  \\\n",
       "0  ANDHRA PRADESH       ADILABAD  2001    50                        30   \n",
       "1  ANDHRA PRADESH      ANANTAPUR  2001    23                        30   \n",
       "2  ANDHRA PRADESH       CHITTOOR  2001    27                        34   \n",
       "3  ANDHRA PRADESH       CUDDAPAH  2001    20                        20   \n",
       "4  ANDHRA PRADESH  EAST GODAVARI  2001    23                        26   \n",
       "\n",
       "   Dowry Deaths  Assault on women with intent to outrage her modesty  \\\n",
       "0            16                                                149     \n",
       "1             7                                                118     \n",
       "2            14                                                112     \n",
       "3            17                                                126     \n",
       "4            12                                                109     \n",
       "\n",
       "   Insult to modesty of Women  Cruelty by Husband or his Relatives  \\\n",
       "0                          34                                  175   \n",
       "1                          24                                  154   \n",
       "2                          83                                  186   \n",
       "3                          38                                   57   \n",
       "4                          58                                  247   \n",
       "\n",
       "   Importation of Girls  \n",
       "0                     0  \n",
       "1                     0  \n",
       "2                     0  \n",
       "3                     0  \n",
       "4                     0  "
      ]
     },
     "execution_count": 12,
     "metadata": {},
     "output_type": "execute_result"
    }
   ],
   "source": [
    "# Read the CSV file into a pandas DataFrame\n",
    "df = pd.read_csv('crimes_against_women_2001_2012.csv')\n",
    "\n",
    "df.head()"
   ]
  },
  {
   "cell_type": "code",
   "execution_count": 13,
   "id": "c7e9f021",
   "metadata": {},
   "outputs": [
    {
     "data": {
      "text/plain": [
       "9017"
      ]
     },
     "execution_count": 13,
     "metadata": {},
     "output_type": "execute_result"
    }
   ],
   "source": [
    "# Creating a connection to a SQLite database\n",
    "conn = sqlite3.connect('crime.db')\n",
    "\n",
    "# Inserting the DataFrame into a SQLite table\n",
    "df.to_sql('crimes_women', conn, if_exists='replace', index=False)"
   ]
  },
  {
   "cell_type": "markdown",
   "id": "afb5f7b1",
   "metadata": {},
   "source": [
    "# 3.2 Highest number of rapes & kidnapping "
   ]
  },
  {
   "cell_type": "code",
   "execution_count": 14,
   "id": "72312670",
   "metadata": {},
   "outputs": [
    {
     "name": "stdout",
     "output_type": "stream",
     "text": [
      "         STATE/UT DISTRICT  Year  MaxRape  MaxKidnapping\n",
      "0  MADHYA PRADESH    TOTAL  2012     3425           1127\n"
     ]
    }
   ],
   "source": [
    "query_1 = \"\"\"\n",
    "        SELECT [STATE/UT], DISTRICT, Year, MAX(Rape) as MaxRape, MAX([Kidnapping and Abduction]) as MaxKidnapping\n",
    "        FROM crimes_women\n",
    "        GROUP BY [STATE/UT], DISTRICT, Year\n",
    "        ORDER BY MaxRape DESC, MaxKidnapping DESC\n",
    "        LIMIT 1\n",
    "        \"\"\"\n",
    "result_1 = pd.read_sql_query(query_1, conn)\n",
    "print(result_1)"
   ]
  },
  {
   "cell_type": "markdown",
   "id": "f309bab3",
   "metadata": {},
   "source": [
    "# 3.3 Lowest number of rapes and kidnapping"
   ]
  },
  {
   "cell_type": "code",
   "execution_count": 15,
   "id": "95bca647",
   "metadata": {},
   "outputs": [
    {
     "name": "stdout",
     "output_type": "stream",
     "text": [
      "            STATE/UT DISTRICT  Year  MinRape  MinKidnapping\n",
      "0      A & N ISLANDS  NICOBAR  2001        0              0\n",
      "1      A & N ISLANDS  NICOBAR  2003        0              0\n",
      "2      A & N ISLANDS  NICOBAR  2004        0              0\n",
      "3      A & N ISLANDS  NICOBAR  2005        0              0\n",
      "4      A & N ISLANDS  NICOBAR  2006        0              0\n",
      "...              ...      ...   ...      ...            ...\n",
      "9011  MADHYA PRADESH    TOTAL  2009     2998            841\n",
      "9012  MADHYA PRADESH    TOTAL  2007     3010            701\n",
      "9013  MADHYA PRADESH    TOTAL  2010     3135           1030\n",
      "9014  MADHYA PRADESH    TOTAL  2011     3406           1088\n",
      "9015  MADHYA PRADESH    TOTAL  2012     3425           1127\n",
      "\n",
      "[9016 rows x 5 columns]\n"
     ]
    }
   ],
   "source": [
    "query = \"\"\"\n",
    "        SELECT [STATE/UT], DISTRICT, Year, MIN(Rape) as MinRape, MIN([Kidnapping and Abduction]) as MinKidnapping\n",
    "        FROM crimes_women\n",
    "        GROUP BY [STATE/UT], DISTRICT, Year\n",
    "        ORDER BY MinRape ASC, MinKidnapping ASC\n",
    "        \"\"\"\n",
    "result = pd.read_sql_query(query, conn)\n",
    "print(result)"
   ]
  },
  {
   "cell_type": "markdown",
   "id": "675bd267",
   "metadata": {},
   "source": [
    "# 3.4 Insert crimes against ST data"
   ]
  },
  {
   "cell_type": "code",
   "execution_count": 16,
   "id": "d6825198",
   "metadata": {},
   "outputs": [
    {
     "data": {
      "text/html": [
       "<div>\n",
       "<style scoped>\n",
       "    .dataframe tbody tr th:only-of-type {\n",
       "        vertical-align: middle;\n",
       "    }\n",
       "\n",
       "    .dataframe tbody tr th {\n",
       "        vertical-align: top;\n",
       "    }\n",
       "\n",
       "    .dataframe thead th {\n",
       "        text-align: right;\n",
       "    }\n",
       "</style>\n",
       "<table border=\"1\" class=\"dataframe\">\n",
       "  <thead>\n",
       "    <tr style=\"text-align: right;\">\n",
       "      <th></th>\n",
       "      <th>STATE/UT</th>\n",
       "      <th>DISTRICT</th>\n",
       "      <th>Year</th>\n",
       "      <th>Murder</th>\n",
       "      <th>Rape</th>\n",
       "      <th>Kidnapping Abduction</th>\n",
       "      <th>Dacoity</th>\n",
       "      <th>Robbery</th>\n",
       "      <th>Arson</th>\n",
       "      <th>Hurt</th>\n",
       "      <th>Protection of Civil Rights (PCR) Act</th>\n",
       "      <th>Prevention of atrocities (POA) Act</th>\n",
       "      <th>Other Crimes Against STs</th>\n",
       "    </tr>\n",
       "  </thead>\n",
       "  <tbody>\n",
       "    <tr>\n",
       "      <th>0</th>\n",
       "      <td>ANDHRA PRADESH</td>\n",
       "      <td>ADILABAD</td>\n",
       "      <td>2001</td>\n",
       "      <td>0</td>\n",
       "      <td>1</td>\n",
       "      <td>2</td>\n",
       "      <td>0</td>\n",
       "      <td>0</td>\n",
       "      <td>0</td>\n",
       "      <td>2</td>\n",
       "      <td>0</td>\n",
       "      <td>0</td>\n",
       "      <td>13</td>\n",
       "    </tr>\n",
       "    <tr>\n",
       "      <th>1</th>\n",
       "      <td>ANDHRA PRADESH</td>\n",
       "      <td>ANANTAPUR</td>\n",
       "      <td>2001</td>\n",
       "      <td>0</td>\n",
       "      <td>0</td>\n",
       "      <td>0</td>\n",
       "      <td>0</td>\n",
       "      <td>0</td>\n",
       "      <td>0</td>\n",
       "      <td>7</td>\n",
       "      <td>0</td>\n",
       "      <td>1</td>\n",
       "      <td>6</td>\n",
       "    </tr>\n",
       "    <tr>\n",
       "      <th>2</th>\n",
       "      <td>ANDHRA PRADESH</td>\n",
       "      <td>CHITTOOR</td>\n",
       "      <td>2001</td>\n",
       "      <td>0</td>\n",
       "      <td>0</td>\n",
       "      <td>0</td>\n",
       "      <td>0</td>\n",
       "      <td>0</td>\n",
       "      <td>0</td>\n",
       "      <td>2</td>\n",
       "      <td>0</td>\n",
       "      <td>0</td>\n",
       "      <td>0</td>\n",
       "    </tr>\n",
       "    <tr>\n",
       "      <th>3</th>\n",
       "      <td>ANDHRA PRADESH</td>\n",
       "      <td>CUDDAPAH</td>\n",
       "      <td>2001</td>\n",
       "      <td>0</td>\n",
       "      <td>0</td>\n",
       "      <td>0</td>\n",
       "      <td>0</td>\n",
       "      <td>0</td>\n",
       "      <td>0</td>\n",
       "      <td>2</td>\n",
       "      <td>0</td>\n",
       "      <td>2</td>\n",
       "      <td>0</td>\n",
       "    </tr>\n",
       "    <tr>\n",
       "      <th>4</th>\n",
       "      <td>ANDHRA PRADESH</td>\n",
       "      <td>EAST GODAVARI</td>\n",
       "      <td>2001</td>\n",
       "      <td>0</td>\n",
       "      <td>0</td>\n",
       "      <td>0</td>\n",
       "      <td>0</td>\n",
       "      <td>0</td>\n",
       "      <td>0</td>\n",
       "      <td>0</td>\n",
       "      <td>0</td>\n",
       "      <td>0</td>\n",
       "      <td>14</td>\n",
       "    </tr>\n",
       "  </tbody>\n",
       "</table>\n",
       "</div>"
      ],
      "text/plain": [
       "         STATE/UT       DISTRICT  Year  Murder  Rape  Kidnapping Abduction  \\\n",
       "0  ANDHRA PRADESH       ADILABAD  2001       0     1                     2   \n",
       "1  ANDHRA PRADESH      ANANTAPUR  2001       0     0                     0   \n",
       "2  ANDHRA PRADESH       CHITTOOR  2001       0     0                     0   \n",
       "3  ANDHRA PRADESH       CUDDAPAH  2001       0     0                     0   \n",
       "4  ANDHRA PRADESH  EAST GODAVARI  2001       0     0                     0   \n",
       "\n",
       "   Dacoity  Robbery  Arson  Hurt  Protection of Civil Rights (PCR) Act  \\\n",
       "0        0        0      0     2                                     0   \n",
       "1        0        0      0     7                                     0   \n",
       "2        0        0      0     2                                     0   \n",
       "3        0        0      0     2                                     0   \n",
       "4        0        0      0     0                                     0   \n",
       "\n",
       "   Prevention of atrocities (POA) Act  Other Crimes Against STs  \n",
       "0                                   0                        13  \n",
       "1                                   1                         6  \n",
       "2                                   0                         0  \n",
       "3                                   2                         0  \n",
       "4                                   0                        14  "
      ]
     },
     "execution_count": 16,
     "metadata": {},
     "output_type": "execute_result"
    }
   ],
   "source": [
    "df_1 = pd.read_csv('crime_against_ST_2001_2012.csv')\n",
    "\n",
    "df_1.head()"
   ]
  },
  {
   "cell_type": "code",
   "execution_count": 17,
   "id": "3e1ad1a6",
   "metadata": {},
   "outputs": [
    {
     "data": {
      "text/plain": [
       "9018"
      ]
     },
     "execution_count": 17,
     "metadata": {},
     "output_type": "execute_result"
    }
   ],
   "source": [
    "#conn = sqlite3.connect('crimes.db')\n",
    "\n",
    "df_1.to_sql('crimes_district', conn, if_exists='replace', index=False)"
   ]
  },
  {
   "cell_type": "markdown",
   "id": "e53a0358",
   "metadata": {},
   "source": [
    "# 3.5 Highest number of dacoity/robbery in which district"
   ]
  },
  {
   "cell_type": "code",
   "execution_count": 18,
   "id": "7df4bf38",
   "metadata": {},
   "outputs": [
    {
     "name": "stdout",
     "output_type": "stream",
     "text": [
      "  DISTRICT  [Highest Dacoity/Robbery]\n",
      "0    TOTAL                         63\n"
     ]
    }
   ],
   "source": [
    "query1 ='''SELECT DISTRICT, MAX(Dacoity + Robbery) AS \"[Highest Dacoity/Robbery]\"\n",
    "               FROM crimes_district\n",
    "               GROUP BY DISTRICT\n",
    "               ORDER BY \"[Highest Dacoity/Robbery]\" DESC\n",
    "               LIMIT 1'''\n",
    "\n",
    "result = pd.read_sql_query(query1, conn)\n",
    "print(result)"
   ]
  },
  {
   "cell_type": "markdown",
   "id": "fcd73408",
   "metadata": {},
   "source": [
    "# 3.6 The lowest number of murders happened in which districts(All)"
   ]
  },
  {
   "cell_type": "code",
   "execution_count": 19,
   "id": "34fa4029",
   "metadata": {},
   "outputs": [
    {
     "name": "stdout",
     "output_type": "stream",
     "text": [
      "              DISTRICT  [Lowest Murders]\n",
      "0    24 PARGANAS NORTH                 0\n",
      "1    24 PARGANAS SOUTH                 0\n",
      "2      A and N ISLANDS                 0\n",
      "3             ADILABAD                 0\n",
      "4                 AGRA                 0\n",
      "..                 ...               ...\n",
      "808        YAMUNANAGAR                 0\n",
      "809           YAVATMAL                 0\n",
      "810          ZUNHEBOTO                 0\n",
      "811          KONDAGAON                 1\n",
      "812            MUNGELI                 1\n",
      "\n",
      "[813 rows x 2 columns]\n"
     ]
    }
   ],
   "source": [
    "query2 ='''SELECT DISTRICT, MIN(Murder) AS \"[Lowest Murders]\"\n",
    "FROM crimes_district\n",
    "GROUP BY DISTRICT\n",
    "ORDER BY \"[Lowest Murders]\" ASC'''\n",
    "\n",
    "result = pd.read_sql_query(query2, conn)\n",
    "print(result)"
   ]
  },
  {
   "cell_type": "markdown",
   "id": "ba6e91ca",
   "metadata": {},
   "source": [
    "# 3.7 The number of murders in ascending order in district and yearwise"
   ]
  },
  {
   "cell_type": "code",
   "execution_count": 20,
   "id": "65afbf82",
   "metadata": {},
   "outputs": [
    {
     "name": "stdout",
     "output_type": "stream",
     "text": [
      "               DISTRICT  Year  Murder\n",
      "0     24 PARGANAS NORTH  2001       0\n",
      "1     24 PARGANAS NORTH  2002       0\n",
      "2     24 PARGANAS NORTH  2003       0\n",
      "3     24 PARGANAS NORTH  2004       0\n",
      "4     24 PARGANAS NORTH  2005       0\n",
      "...                 ...   ...     ...\n",
      "9013          ZUNHEBOTO  2008       0\n",
      "9014          ZUNHEBOTO  2009       0\n",
      "9015          ZUNHEBOTO  2010       0\n",
      "9016          ZUNHEBOTO  2011       0\n",
      "9017          ZUNHEBOTO  2012       0\n",
      "\n",
      "[9018 rows x 3 columns]\n"
     ]
    }
   ],
   "source": [
    "query3 = '''\n",
    "SELECT DISTRICT, Year, Murder\n",
    "FROM crimes_district\n",
    "ORDER BY DISTRICT ASC, Year ASC, Murder ASC'''\n",
    "\n",
    "result = pd.read_sql_query(query3, conn)\n",
    "print(result)"
   ]
  },
  {
   "cell_type": "markdown",
   "id": "b9d84d66",
   "metadata": {},
   "source": [
    "# 3.8.1 Insert record IPC_2001_2012"
   ]
  },
  {
   "cell_type": "code",
   "execution_count": 21,
   "id": "035af6c1",
   "metadata": {},
   "outputs": [
    {
     "data": {
      "text/html": [
       "<div>\n",
       "<style scoped>\n",
       "    .dataframe tbody tr th:only-of-type {\n",
       "        vertical-align: middle;\n",
       "    }\n",
       "\n",
       "    .dataframe tbody tr th {\n",
       "        vertical-align: top;\n",
       "    }\n",
       "\n",
       "    .dataframe thead th {\n",
       "        text-align: right;\n",
       "    }\n",
       "</style>\n",
       "<table border=\"1\" class=\"dataframe\">\n",
       "  <thead>\n",
       "    <tr style=\"text-align: right;\">\n",
       "      <th></th>\n",
       "      <th>STATE/UT</th>\n",
       "      <th>DISTRICT</th>\n",
       "      <th>YEAR</th>\n",
       "      <th>MURDER</th>\n",
       "      <th>ATTEMPT TO MURDER</th>\n",
       "      <th>CULPABLE HOMICIDE NOT AMOUNTING TO MURDER</th>\n",
       "      <th>RAPE</th>\n",
       "      <th>CUSTODIAL RAPE</th>\n",
       "      <th>OTHER RAPE</th>\n",
       "      <th>KIDNAPPING &amp; ABDUCTION</th>\n",
       "      <th>...</th>\n",
       "      <th>ARSON</th>\n",
       "      <th>HURT/GREVIOUS HURT</th>\n",
       "      <th>DOWRY DEATHS</th>\n",
       "      <th>ASSAULT ON WOMEN WITH INTENT TO OUTRAGE HER MODESTY</th>\n",
       "      <th>INSULT TO MODESTY OF WOMEN</th>\n",
       "      <th>CRUELTY BY HUSBAND OR HIS RELATIVES</th>\n",
       "      <th>IMPORTATION OF GIRLS FROM FOREIGN COUNTRIES</th>\n",
       "      <th>CAUSING DEATH BY NEGLIGENCE</th>\n",
       "      <th>OTHER IPC CRIMES</th>\n",
       "      <th>TOTAL IPC CRIMES</th>\n",
       "    </tr>\n",
       "  </thead>\n",
       "  <tbody>\n",
       "    <tr>\n",
       "      <th>0</th>\n",
       "      <td>ANDHRA PRADESH</td>\n",
       "      <td>ADILABAD</td>\n",
       "      <td>2001</td>\n",
       "      <td>101</td>\n",
       "      <td>60</td>\n",
       "      <td>17</td>\n",
       "      <td>50</td>\n",
       "      <td>0</td>\n",
       "      <td>50</td>\n",
       "      <td>46</td>\n",
       "      <td>...</td>\n",
       "      <td>30</td>\n",
       "      <td>1131</td>\n",
       "      <td>16</td>\n",
       "      <td>149</td>\n",
       "      <td>34</td>\n",
       "      <td>175</td>\n",
       "      <td>0</td>\n",
       "      <td>181</td>\n",
       "      <td>1518</td>\n",
       "      <td>4154</td>\n",
       "    </tr>\n",
       "    <tr>\n",
       "      <th>1</th>\n",
       "      <td>ANDHRA PRADESH</td>\n",
       "      <td>ANANTAPUR</td>\n",
       "      <td>2001</td>\n",
       "      <td>151</td>\n",
       "      <td>125</td>\n",
       "      <td>1</td>\n",
       "      <td>23</td>\n",
       "      <td>0</td>\n",
       "      <td>23</td>\n",
       "      <td>53</td>\n",
       "      <td>...</td>\n",
       "      <td>69</td>\n",
       "      <td>1543</td>\n",
       "      <td>7</td>\n",
       "      <td>118</td>\n",
       "      <td>24</td>\n",
       "      <td>154</td>\n",
       "      <td>0</td>\n",
       "      <td>270</td>\n",
       "      <td>754</td>\n",
       "      <td>4125</td>\n",
       "    </tr>\n",
       "    <tr>\n",
       "      <th>2</th>\n",
       "      <td>ANDHRA PRADESH</td>\n",
       "      <td>CHITTOOR</td>\n",
       "      <td>2001</td>\n",
       "      <td>101</td>\n",
       "      <td>57</td>\n",
       "      <td>2</td>\n",
       "      <td>27</td>\n",
       "      <td>0</td>\n",
       "      <td>27</td>\n",
       "      <td>59</td>\n",
       "      <td>...</td>\n",
       "      <td>38</td>\n",
       "      <td>2088</td>\n",
       "      <td>14</td>\n",
       "      <td>112</td>\n",
       "      <td>83</td>\n",
       "      <td>186</td>\n",
       "      <td>0</td>\n",
       "      <td>404</td>\n",
       "      <td>1262</td>\n",
       "      <td>5818</td>\n",
       "    </tr>\n",
       "    <tr>\n",
       "      <th>3</th>\n",
       "      <td>ANDHRA PRADESH</td>\n",
       "      <td>CUDDAPAH</td>\n",
       "      <td>2001</td>\n",
       "      <td>80</td>\n",
       "      <td>53</td>\n",
       "      <td>1</td>\n",
       "      <td>20</td>\n",
       "      <td>0</td>\n",
       "      <td>20</td>\n",
       "      <td>25</td>\n",
       "      <td>...</td>\n",
       "      <td>23</td>\n",
       "      <td>795</td>\n",
       "      <td>17</td>\n",
       "      <td>126</td>\n",
       "      <td>38</td>\n",
       "      <td>57</td>\n",
       "      <td>0</td>\n",
       "      <td>233</td>\n",
       "      <td>1181</td>\n",
       "      <td>3140</td>\n",
       "    </tr>\n",
       "    <tr>\n",
       "      <th>4</th>\n",
       "      <td>ANDHRA PRADESH</td>\n",
       "      <td>EAST GODAVARI</td>\n",
       "      <td>2001</td>\n",
       "      <td>82</td>\n",
       "      <td>67</td>\n",
       "      <td>1</td>\n",
       "      <td>23</td>\n",
       "      <td>0</td>\n",
       "      <td>23</td>\n",
       "      <td>49</td>\n",
       "      <td>...</td>\n",
       "      <td>41</td>\n",
       "      <td>1244</td>\n",
       "      <td>12</td>\n",
       "      <td>109</td>\n",
       "      <td>58</td>\n",
       "      <td>247</td>\n",
       "      <td>0</td>\n",
       "      <td>431</td>\n",
       "      <td>2313</td>\n",
       "      <td>6507</td>\n",
       "    </tr>\n",
       "  </tbody>\n",
       "</table>\n",
       "<p>5 rows × 33 columns</p>\n",
       "</div>"
      ],
      "text/plain": [
       "         STATE/UT       DISTRICT  YEAR  MURDER  ATTEMPT TO MURDER  \\\n",
       "0  ANDHRA PRADESH       ADILABAD  2001     101                 60   \n",
       "1  ANDHRA PRADESH      ANANTAPUR  2001     151                125   \n",
       "2  ANDHRA PRADESH       CHITTOOR  2001     101                 57   \n",
       "3  ANDHRA PRADESH       CUDDAPAH  2001      80                 53   \n",
       "4  ANDHRA PRADESH  EAST GODAVARI  2001      82                 67   \n",
       "\n",
       "   CULPABLE HOMICIDE NOT AMOUNTING TO MURDER  RAPE  CUSTODIAL RAPE  \\\n",
       "0                                         17    50               0   \n",
       "1                                          1    23               0   \n",
       "2                                          2    27               0   \n",
       "3                                          1    20               0   \n",
       "4                                          1    23               0   \n",
       "\n",
       "   OTHER RAPE  KIDNAPPING & ABDUCTION  ...  ARSON  HURT/GREVIOUS HURT  \\\n",
       "0          50                      46  ...     30                1131   \n",
       "1          23                      53  ...     69                1543   \n",
       "2          27                      59  ...     38                2088   \n",
       "3          20                      25  ...     23                 795   \n",
       "4          23                      49  ...     41                1244   \n",
       "\n",
       "   DOWRY DEATHS  ASSAULT ON WOMEN WITH INTENT TO OUTRAGE HER MODESTY  \\\n",
       "0            16                                                149     \n",
       "1             7                                                118     \n",
       "2            14                                                112     \n",
       "3            17                                                126     \n",
       "4            12                                                109     \n",
       "\n",
       "   INSULT TO MODESTY OF WOMEN  CRUELTY BY HUSBAND OR HIS RELATIVES  \\\n",
       "0                          34                                  175   \n",
       "1                          24                                  154   \n",
       "2                          83                                  186   \n",
       "3                          38                                   57   \n",
       "4                          58                                  247   \n",
       "\n",
       "   IMPORTATION OF GIRLS FROM FOREIGN COUNTRIES  CAUSING DEATH BY NEGLIGENCE  \\\n",
       "0                                            0                          181   \n",
       "1                                            0                          270   \n",
       "2                                            0                          404   \n",
       "3                                            0                          233   \n",
       "4                                            0                          431   \n",
       "\n",
       "   OTHER IPC CRIMES  TOTAL IPC CRIMES  \n",
       "0              1518              4154  \n",
       "1               754              4125  \n",
       "2              1262              5818  \n",
       "3              1181              3140  \n",
       "4              2313              6507  \n",
       "\n",
       "[5 rows x 33 columns]"
      ]
     },
     "execution_count": 21,
     "metadata": {},
     "output_type": "execute_result"
    }
   ],
   "source": [
    "df_2 = pd.read_csv('IPC_2001_2012.csv')\n",
    "\n",
    "df_2.head()"
   ]
  },
  {
   "cell_type": "code",
   "execution_count": 22,
   "id": "5e00756f",
   "metadata": {},
   "outputs": [
    {
     "data": {
      "text/plain": [
       "9017"
      ]
     },
     "execution_count": 22,
     "metadata": {},
     "output_type": "execute_result"
    }
   ],
   "source": [
    "df_2.to_sql('crimes_district_IPC', conn, if_exists='replace', index=False)"
   ]
  },
  {
   "cell_type": "markdown",
   "id": "19ca18fc",
   "metadata": {},
   "source": [
    "# 3.8.2 which District in each state/ut has the highest number of murders yearwise. Your output should show STATE/UT, YEAR, DISTRICT, and MURDERS."
   ]
  },
  {
   "cell_type": "code",
   "execution_count": 23,
   "id": "5a86a524",
   "metadata": {},
   "outputs": [
    {
     "name": "stdout",
     "output_type": "stream",
     "text": [
      "          STATE/UT  YEAR DISTRICT  MURDERS\n",
      "0    A & N ISLANDS  2001  ANDAMAN       13\n",
      "1    A & N ISLANDS  2002    TOTAL       17\n",
      "2    A & N ISLANDS  2003    TOTAL       21\n",
      "3    A & N ISLANDS  2004    TOTAL       15\n",
      "4    A & N ISLANDS  2005  ANDAMAN       14\n",
      "..             ...   ...      ...      ...\n",
      "415    WEST BENGAL  2008    TOTAL     1811\n",
      "416    WEST BENGAL  2009    TOTAL     2068\n",
      "417    WEST BENGAL  2010    TOTAL     2398\n",
      "418    WEST BENGAL  2011    TOTAL     2109\n",
      "419    WEST BENGAL  2012    TOTAL     2252\n",
      "\n",
      "[420 rows x 4 columns]\n"
     ]
    }
   ],
   "source": [
    "query1 = '''SELECT [STATE/UT], YEAR, DISTRICT, MAX(MURDER) AS MURDERS\n",
    "FROM crimes_district_IPC\n",
    "GROUP BY [STATE/UT], YEAR\n",
    "ORDER BY [STATE/UT], YEAR '''\n",
    "\n",
    "result = pd.read_sql_query(query1, conn)\n",
    "print(result)"
   ]
  },
  {
   "cell_type": "code",
   "execution_count": null,
   "id": "db3f850d",
   "metadata": {},
   "outputs": [],
   "source": []
  }
 ],
 "metadata": {
  "kernelspec": {
   "display_name": "Python 3 (ipykernel)",
   "language": "python",
   "name": "python3"
  },
  "language_info": {
   "codemirror_mode": {
    "name": "ipython",
    "version": 3
   },
   "file_extension": ".py",
   "mimetype": "text/x-python",
   "name": "python",
   "nbconvert_exporter": "python",
   "pygments_lexer": "ipython3",
   "version": "3.9.12"
  }
 },
 "nbformat": 4,
 "nbformat_minor": 5
}
